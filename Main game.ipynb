{
 "cells": [
  {
   "cell_type": "markdown",
   "metadata": {},
   "source": [
    "# Create a World (Habitat)"
   ]
  },
  {
   "cell_type": "code",
   "execution_count": 3,
   "metadata": {},
   "outputs": [],
   "source": [
    "system_prompt = f\"\"\"\n",
    "Your job is to assist in creating immersive, structured worlds based on real-world environments and species for a game.\n",
    "Instructions:\n",
    "- Provide descriptions grounded in real-world ecosystems, habitats, and animal behaviors.\n",
    "- Use concise, factual language (3-5 sentences per section) to ensure clarity and accuracy.\n",
    "- Focus on authenticity and real-world inspiration, rather than fantastical elements, but animals can talk and have human-like qualities.\n",
    "\"\"\""
   ]
  },
  {
   "cell_type": "code",
   "execution_count": null,
   "metadata": {},
   "outputs": [],
   "source": [
    "habitat_prompt = f\"\"\"\n",
    "Generate a creative description for a habitat that mirrors the natural environments of the Slender-billed Curlew, spanning the taiga and steppe regions of western Siberia, as well as the Mediterranean wetlands.\n",
    "\n",
    "Output content in the form:\n",
    "Habitat Name: <HABITAT NAME>\n",
    "Habitat Description: <HABITAT DESCRIPTION>\n",
    "\n",
    "Habitat Name:\n",
    "\"\"\""
   ]
  },
  {
   "cell_type": "code",
   "execution_count": null,
   "metadata": {},
   "outputs": [],
   "source": [
    "from together import Together\n",
    "from helper import get_together_api_key,load_env \n",
    "\n",
    "client = Together(api_key=get_together_api_key())\n",
    "\n",
    "output = client.chat.completions.create(\n",
    "    model=\"meta-llama/Llama-3-70b-chat-hf\",\n",
    "    messages=[\n",
    "        {\"role\": \"system\", \"content\": system_prompt},\n",
    "        {\"role\": \"user\", \"content\": habitat_prompt}\n",
    "    ],\n",
    ")"
   ]
  },
  {
   "cell_type": "code",
   "execution_count": null,
   "metadata": {},
   "outputs": [],
   "source": [
    "habitat_output =output.choices[0].message.content\n",
    "print(habitat_output)"
   ]
  },
  {
   "cell_type": "code",
   "execution_count": null,
   "metadata": {},
   "outputs": [],
   "source": [
    "habitat_output = habitat_output.strip()\n",
    "habitat = {\n",
    "    \"name\": habitat_output.split('\\n')[0].strip()\n",
    "    .replace('Habitat Name: ', ''),\n",
    "    \"description\": '\\n'.join(habitat_output.split('\\n')[1:])\n",
    "    .replace('Habitat Description:', '').strip()\n",
    "}"
   ]
  }
 ],
 "metadata": {
  "kernelspec": {
   "display_name": "Python 3",
   "language": "python",
   "name": "python3"
  },
  "language_info": {
   "codemirror_mode": {
    "name": "ipython",
    "version": 3
   },
   "file_extension": ".py",
   "mimetype": "text/x-python",
   "name": "python",
   "nbconvert_exporter": "python",
   "pygments_lexer": "ipython3",
   "version": "3.11.1"
  }
 },
 "nbformat": 4,
 "nbformat_minor": 2
}
