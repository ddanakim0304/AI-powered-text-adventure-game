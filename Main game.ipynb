{
 "cells": [
  {
   "cell_type": "markdown",
   "metadata": {},
   "source": [
    "# Create a World (Habitat)"
   ]
  },
  {
   "cell_type": "code",
   "execution_count": 3,
   "metadata": {},
   "outputs": [],
   "source": [
    "system_prompt = f\"\"\"\n",
    "Your job is to assist in creating immersive, structured worlds based on real-world environments and species for a game.\n",
    "Instructions:\n",
    "- Provide descriptions grounded in real-world ecosystems, habitats, and animal behaviors.\n",
    "- Use concise, factual language (3-5 sentences per section) to ensure clarity and accuracy.\n",
    "- Focus on authenticity and real-world inspiration, rather than fantastical elements, but animals can talk and have human-like qualities.\n",
    "\"\"\""
   ]
  },
  {
   "cell_type": "code",
   "execution_count": null,
   "metadata": {},
   "outputs": [],
   "source": [
    "habitat_prompt = f\"\"\"\n",
    "Generate a creative description for a habitat that mirrors the natural environments of the Slender-billed Curlew, spanning the taiga and steppe regions of western Siberia, as well as the Mediterranean wetlands.\n",
    "\n",
    "Output content in the form:\n",
    "Habitat Name: <HABITAT NAME>\n",
    "Habitat Description: <HABITAT DESCRIPTION>\n",
    "\n",
    "Habitat Name:\n",
    "\"\"\""
   ]
  },
  {
   "cell_type": "code",
   "execution_count": null,
   "metadata": {},
   "outputs": [],
   "source": [
    "from together import Together\n",
    "from helper import get_together_api_key,load_env \n",
    "\n",
    "client = Together(api_key=get_together_api_key())\n",
    "\n",
    "output = client.chat.completions.create(\n",
    "    model=\"meta-llama/Llama-3-70b-chat-hf\",\n",
    "    messages=[\n",
    "        {\"role\": \"system\", \"content\": system_prompt},\n",
    "        {\"role\": \"user\", \"content\": habitat_prompt}\n",
    "    ],\n",
    ")"
   ]
  },
  {
   "cell_type": "code",
   "execution_count": null,
   "metadata": {},
   "outputs": [],
   "source": [
    "habitat_output =output.choices[0].message.content\n",
    "print(habitat_output)"
   ]
  },
  {
   "cell_type": "code",
   "execution_count": null,
   "metadata": {},
   "outputs": [],
   "source": [
    "habitat_output = habitat_output.strip()\n",
    "habitat = {\n",
    "    \"name\": habitat_output.split('\\n')[0].strip()\n",
    "    .replace('Habitat Name: ', ''),\n",
    "    \"description\": '\\n'.join(habitat_output.split('\\n')[1:])\n",
    "    .replace('Habitat Description:', '').strip()\n",
    "}"
   ]
  },
  {
   "cell_type": "markdown",
   "metadata": {},
   "source": [
    "# Generating Regions\n",
    "\n",
    " **Level 2 - Regions** The world is divided into three distinct regions:\n",
    "   * **Region 1**: The bird’s hometown, a familiar and relatively safe starting area.\n",
    "   * **Region 2**: A walkable distance from Region 1, representing a transitional area.\n",
    "   * **Region 3**: A distant, final destination that the bird flies to, symbolizing the culmination of its journey."
   ]
  },
  {
   "cell_type": "code",
   "execution_count": null,
   "metadata": {},
   "outputs": [],
   "source": [
    "region_prompt = f\"\"\"\n",
    "Create 3 different regions for a realistic world based on the habitat of the Slender-billed Curlew. \n",
    "For each region, generate a description grounded in its natural habitat and ecosystem. \n",
    "Describe key characteristics, notable environmental features, and how they relate to the bird's journey.\n",
    "\n",
    "Output content in the form:\n",
    "Region 1 Name: <REGION NAME>\n",
    "Region 1 Description: <REGION DESCRIPTION>\n",
    "Region 2 Name: <REGION NAME>\n",
    "Region 2 Description: <REGION DESCRIPTION>\n",
    "Region 3 Name: <REGION NAME>\n",
    "Region 3 Description: <REGION DESCRIPTION>\n",
    "\n",
    "Habitat Name: {habitat['name']}\n",
    "Habitat Description: {habitat['description']}\n",
    "\n",
    "Region 1\"\"\"\n"
   ]
  },
  {
   "cell_type": "code",
   "execution_count": null,
   "metadata": {},
   "outputs": [],
   "source": [
    "output = client.chat.completions.create(\n",
    "    model=\"meta-llama/Llama-3-70b-chat-hf\",\n",
    "    messages=[\n",
    "        {\"role\": \"system\", \"content\": system_prompt},\n",
    "        {\"role\": \"user\", \"content\": region_prompt}\n",
    "    ],\n",
    ")"
   ]
  },
  {
   "cell_type": "code",
   "execution_count": null,
   "metadata": {},
   "outputs": [],
   "source": [
    "regions = {}\n",
    "regions_output = output.choices[0].message.content\n",
    "\n",
    "for output in regions_output.split('\\n\\n'):\n",
    "    region_name = output.strip().split('\\n')[0] \\\n",
    "        .split('Name: ')[1].strip()\n",
    "    print(f'Created region \"{region_name}\" in {habitat[\"name\"]}')\n",
    "    region_description = output.strip().split('\\n')[1] \\\n",
    "        .split('Description: ')[1].strip()\n",
    "    region = {\n",
    "        \"name\": region_name,\n",
    "        \"description\": region_description,\n",
    "        \"habitat\": habitat['name']\n",
    "    }\n",
    "    regions[region_name] = region\n",
    "habitat['regions'] = regions\n",
    "\n",
    "print(f'\\nRegion 1 Description: \\\n",
    "{region[\"description\"]}')\n"
   ]
  }
 ],
 "metadata": {
  "kernelspec": {
   "display_name": "Python 3",
   "language": "python",
   "name": "python3"
  },
  "language_info": {
   "codemirror_mode": {
    "name": "ipython",
    "version": 3
   },
   "file_extension": ".py",
   "mimetype": "text/x-python",
   "name": "python",
   "nbconvert_exporter": "python",
   "pygments_lexer": "ipython3",
   "version": "3.11.1"
  }
 },
 "nbformat": 4,
 "nbformat_minor": 2
}
