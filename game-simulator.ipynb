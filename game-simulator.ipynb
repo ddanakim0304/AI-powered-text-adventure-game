{
 "cells": [
  {
   "cell_type": "code",
   "execution_count": null,
   "metadata": {},
   "outputs": [],
   "source": [
    "import gradio as gr\n",
    "import os\n",
    "demo = None #added to allow restart\n",
    "\n",
    "def start_game(main_loop, share=False):\n",
    "    # added code to support restart\n",
    "    global demo\n",
    "    # If demo is already running, close it first\n",
    "    if demo is not None:\n",
    "        demo.close()\n",
    "\n",
    "    demo = gr.ChatInterface(\n",
    "        main_loop,\n",
    "        chatbot=gr.Chatbot(height=250, placeholder=\"Type 'start game' to begin\"),\n",
    "        textbox=gr.Textbox(placeholder=\"What do you do next?\", container=False, scale=7),\n",
    "        title=\"Bird Adventure Game\",\n",
    "        # description=\"Ask Yes Man any question\",\n",
    "        theme=\"soft\",\n",
    "        examples=[\"Look around\", \"Continue the story\"],\n",
    "        cache_examples=False,\n",
    "        retry_btn=\"Retry\",\n",
    "        undo_btn=\"Undo\",\n",
    "        clear_btn=\"Clear\",\n",
    "                           )\n",
    "    demo.launch(share=share, server_name=\"0.0.0.0\")\n",
    "\n",
    "def test_main_loop(message, history):\n",
    "    return 'Entered Action: ' + message\n",
    "\n",
    "start_game(test_main_loop)"
   ]
  },
  {
   "cell_type": "markdown",
   "metadata": {},
   "source": [
    "# Generating an Initial Start"
   ]
  },
  {
   "cell_type": "code",
   "execution_count": null,
   "metadata": {},
   "outputs": [],
   "source": [
    "from helper import load_world, save_world\n",
    "from together import Together\n",
    "from helper import get_together_api_key, load_env\n",
    "\n",
    "client = Together(api_key=get_together_api_key())\n",
    "\n",
    "habitat = load_world('../shared_data/habitat_information.json')\n",
    "region = habitat['regions']"
   ]
  },
  {
   "cell_type": "code",
   "execution_count": null,
   "metadata": {},
   "outputs": [],
   "source": [
    "system_prompt = \"\"\"\n",
    "You are an AI Game Master. Your job is to create the beginning of an adventure based on the habitat, region, and character a player is playing as.\n",
    "Instructions:\n",
    "- Use 2-4 sentences.\n",
    "- Write in second person. For example: \"You are Jack.\"\n",
    "- Write in present tense. For example: \"You stand at...\"\n",
    "- First, describe the character and their backstory.\n",
    "- Then, describe where they start and what they see around them.\n",
    "- Do NOT mention the species of Birdy\n",
    "\"\"\"\n",
    "\n",
    "habitat_info = f\"\"\"\n",
    "Habitat: {habitat}\n",
    "Region: {region}\n",
    "NPCs: {region[\"The Larch Forests of the Taiga\"][\"animals\"]}\n",
    "Your_Character: \n",
    "Birdy is a Slender-billed Curlew, a rare and solitary bird known for its distinctive curved beak and graceful flight. You have always been a wanderer, drawn to distant places and the mysteries they hold. Though your journey is often solitary, your keen instincts and unwavering resolve guide you through even the most unfamiliar terrain.\n",
    "However, you do not know your species, nor do you know that your species will become extinct.\n",
    "\"\"\"\n"
   ]
  },
  {
   "cell_type": "code",
   "execution_count": null,
   "metadata": {},
   "outputs": [],
   "source": [
    "model_output = client.chat.completions.create(\n",
    "    model=\"meta-llama/Llama-3-70b-chat-hf\",\n",
    "    temperature=1.0,\n",
    "    messages=[\n",
    "        {\"role\": \"system\", \"content\": system_prompt},\n",
    "        {\"role\": \"user\", \"content\": habitat_info + '\\nYour Start:'}\n",
    "    ],\n",
    ")"
   ]
  },
  {
   "cell_type": "code",
   "execution_count": null,
   "metadata": {},
   "outputs": [],
   "source": [
    "start = model_output.choices[0].message.content\n",
    "print(start)\n",
    "habitat['start'] = start\n",
    "\n",
    "save_world(habitat, '../shared_data/habitat_information.json')"
   ]
  },
  {
   "cell_type": "markdown",
   "metadata": {},
   "source": [
    "### Sample response I got\n",
    "\n",
    "You are Birdy, a wanderer with a keen instinct and unwavering resolve, drawn to distant places and mysteries. You have a distinctive curved beak and a nature that's adapted to navigating unfamiliar terrain. You stand atop a snow-covered larch tree in the heart of The Larch Forests of the Taiga, your mottled brown plumage blending seamlessly into the forest's dappled shadows. The air is crisp and still, with only the occasional rustle of small mammals or the soft hooting of owls breaking the silence. The forest floor, carpeted with moss and lichen, stretches out before you, quiet and still."
   ]
  },
  {
   "cell_type": "markdown",
   "metadata": {},
   "source": [
    "# Update NPC state"
   ]
  },
  {
   "cell_type": "code",
   "execution_count": null,
   "metadata": {},
   "outputs": [],
   "source": [
    "system_prompt = \"\"\"You are an AI Game Assistant. \\\n",
    "Your job is to detect updates to the NPCs a player (the bird) has interacted with \\\n",
    "based on the most recent story and game state. \\\n",
    "For each interaction, update the NPC entry with a brief summary of the relationship \\\n",
    "and note any significant changes in their behavior or dynamics.\n",
    "\n",
    "Given the player name, the current list of NPC interactions, and the latest story, \\\n",
    "return a JSON update of the NPCs in the following form:\n",
    "\n",
    "NPC Updates:\n",
    "{\n",
    "    \"npcUpdates\": [\n",
    "        {\n",
    "            \"name\": <NPC NAME>, \n",
    "            \"relationship_summary\": <BRIEF SUMMARY OF RELATIONSHIP>,\n",
    "            \"status_change\": <DESCRIPTION OF ANY SIGNIFICANT CHANGE, IF APPLICABLE>\n",
    "        }...\n",
    "    ]\n",
    "}\n",
    "\n",
    "- If no NPCs were interacted with, return {\"npcUpdates\": []}.\n",
    "- Keep relationship summaries concise and factual.\n",
    "- Only include NPCs clearly mentioned in the most recent story.\n",
    "- Do not include information that was not explicitly described in the story.\n",
    "\n",
    "Response must be in valid JSON.\n",
    "\"\"\"\n"
   ]
  },
  {
   "cell_type": "code",
   "execution_count": null,
   "metadata": {},
   "outputs": [],
   "source": [
    "def detect_npc_changes(game_state, output):\n",
    "    npc_interactions = game_state['npc_interactions']\n",
    "    messages = [\n",
    "        {\"role\": \"system\", \"content\": system_prompt},\n",
    "        {\"role\": \"user\", \"content\": f'Current NPC Interactions: {str(npc_interactions)}'},\n",
    "        {\"role\": \"user\", \"content\": f'Recent Story: {output}'},\n",
    "        {\"role\": \"user\", \"content\": 'NPC Updates'}\n",
    "    ]\n",
    "    chat_completion = client.chat.completions.create(\n",
    "        model=\"meta-llama/Llama-3-70b-chat-hf\",\n",
    "        temperature=0.0,\n",
    "        messages=messages\n",
    "    )\n",
    "    response = chat_completion.choices[0].message.content\n",
    "    result = json.loads(response)\n",
    "    return result['npcUpdates']\n",
    "\n",
    "from helper import get_game_state\n",
    "\n",
    "# Example game state\n",
    "game_state = get_game_state()\n",
    "game_state['npc_interactions'] = {\n",
    "    \"Friendly Squirrel\": {\n",
    "        \"relationship_summary\": \"Helped you find food near Region 1.\",\n",
    "        \"status_change\": None\n",
    "    }\n",
    "}\n",
    "\n",
    "# Example usage\n",
    "result = detect_npc_changes(game_state, \n",
    "\"You encountered the Friendly Squirrel again, but it seems wary of you this time.\")\n",
    "\n",
    "print(result)"
   ]
  },
  {
   "cell_type": "code",
   "execution_count": null,
   "metadata": {},
   "outputs": [],
   "source": [
    "\n",
    "def update_npc_interactions(npc_interactions, npc_updates):\n",
    "    update_msg = ''\n",
    "    \n",
    "    for update in npc_updates:\n",
    "        name = update['name']\n",
    "        relationship_summary = update.get('relationship_summary', '')\n",
    "        status_change = update.get('status_change', None)\n",
    "        \n",
    "        if name not in npc_interactions:\n",
    "            npc_interactions[name] = {\n",
    "                \"relationship_summary\": relationship_summary,\n",
    "                \"status_change\": status_change\n",
    "            }\n",
    "            update_msg += f'\\nNPC Added: {name} - {relationship_summary}'\n",
    "        else:\n",
    "            npc_interactions[name][\"relationship_summary\"] = relationship_summary\n",
    "            npc_interactions[name][\"status_change\"] = status_change\n",
    "            update_msg += f'\\nNPC Updated: {name} - {relationship_summary}'\n",
    "            \n",
    "    return update_msg"
   ]
  },
  {
   "cell_type": "markdown",
   "metadata": {},
   "source": [
    "# Creating the Main Action Loop¶"
   ]
  },
  {
   "cell_type": "code",
   "execution_count": null,
   "metadata": {},
   "outputs": [],
   "source": [
    "def run_action(message, history, game_state):\n",
    "    \n",
    "    if message == 'start game':\n",
    "        return game_state['start']\n",
    "\n",
    "    system_prompt = \"\"\"You are an AI Game Master. Your job is to write what \\\n",
    "happens next in a player's adventure game.\\\n",
    "Instructions: \\\n",
    "- Write only 1-3 sentences in response. \\\n",
    "- Always write in second person present tense. \\\n",
    "For example: \"You look north and see...\" \"\"\"\n",
    "\n",
    "    habitat_info = f\"\"\"\n",
    "Habitat: {game_state['habitat']}\n",
    "Region: {game_state['region']}\n",
    "NPCs: {game_state['NPCs']}\n",
    "\"\"\"\n",
    "\n",
    "    messages = [\n",
    "        {\"role\": \"system\", \"content\": system_prompt},\n",
    "        {\"role\": \"user\", \"content\": habitat_info}\n",
    "    ]\n",
    "    for action in history:\n",
    "        messages.append({\"role\": \"assistant\", \"content\": action[0]})\n",
    "        messages.append({\"role\": \"user\", \"content\": action[1]})\n",
    "\n",
    "    messages.append({\"role\": \"user\", \"content\": message})\n",
    "    model_output = client.chat.completions.create(\n",
    "        model=\"meta-llama/Llama-3-70b-chat-hf\",\n",
    "        messages=messages\n",
    "    )\n",
    "    \n",
    "    result = model_output.choices[0].message.content\n",
    "    return result\n"
   ]
  },
  {
   "cell_type": "code",
   "execution_count": null,
   "metadata": {},
   "outputs": [],
   "source": [
    "game_state = get_game_state(npc_interactions={})"
   ]
  },
  {
   "cell_type": "code",
   "execution_count": null,
   "metadata": {},
   "outputs": [],
   "source": [
    "\n",
    "def main_loop(message, history):\n",
    "    output = run_action(message, history, game_state)\n",
    "\n",
    "    # Detect changes in NPC interactions\n",
    "    npc_updates = detect_npc_changes(game_state, output)\n",
    "    \n",
    "    # Update the NPC interactions in the game state\n",
    "    update_msg = update_npc_interactions(\n",
    "        game_state['npc_interactions'], \n",
    "        npc_updates\n",
    "    )\n",
    "    output += update_msg\n",
    "\n",
    "    return output\n",
    "\n",
    "\n",
    "# Launch the Game !\n",
    "start_game(main_loop, True)"
   ]
  }
 ],
 "metadata": {
  "kernelspec": {
   "display_name": "Python 3",
   "language": "python",
   "name": "python3"
  },
  "language_info": {
   "name": "python",
   "version": "3.11.1"
  }
 },
 "nbformat": 4,
 "nbformat_minor": 2
}
